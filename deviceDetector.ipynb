{
 "cells": [
  {
   "cell_type": "markdown",
   "id": "62903bcd",
   "metadata": {},
   "source": [
    "This is the code that detects the device details and feeds them into the system"
   ]
  },
  {
   "cell_type": "code",
   "execution_count": 23,
   "id": "0288dfd7",
   "metadata": {},
   "outputs": [],
   "source": [
    "#importing \n",
    "import numpy as np\n",
    "import pandas as pd\n",
    "import matplotlib.pyplot as mplib\n",
    "import seaborn as sborn\n",
    "import sys\n",
    "from device_detector import DeviceDetector\n",
    "from datetime import date \n",
    "from specialDayTracker import specialDayCalculator"
   ]
  },
  {
   "cell_type": "code",
   "execution_count": 24,
   "id": "2e8c3ac5",
   "metadata": {},
   "outputs": [
    {
     "name": "stdout",
     "output_type": "stream",
     "text": [
      "Enter UAMozilla/5.0 (Linux; Android 11; OnePlus 8 Pro) AppleWebKit/537.36 (KHTML, like Gecko) Chrome/91.0.4472.77 Mobile Safari/537.36 [FB_IAB/FB4A;FBAV/287.0.0.50.119;]\n"
     ]
    }
   ],
   "source": [
    "#initialization of device object\n",
    "userAgent = str(input(\"Enter UA\")) # Change if implement JS parser\n",
    "device = DeviceDetector(userAgent).parse()"
   ]
  },
  {
   "cell_type": "markdown",
   "id": "968688fa",
   "metadata": {},
   "source": [
    "\n",
    "This code is intended to be used in conjunction with a full Google Analytics setup, as well as a proper server with JS and React. Since we are only required to implement the Python code, that is what we will do. \n",
    "\n",
    "Please note, however, that I wrote this at a very early stage of the project and hence, there may be full JS files as well in the submission, that may be accompanied with sample code of the HTML and React portion"
   ]
  },
  {
   "cell_type": "code",
   "execution_count": 25,
   "id": "fcce8c96",
   "metadata": {},
   "outputs": [],
   "source": [
    "#bot detection portion\n",
    "# We do not want bots ruining our data\n",
    "if device.is_bot() == True:\n",
    "    sys.exit()"
   ]
  },
  {
   "cell_type": "code",
   "execution_count": 26,
   "id": "e719c3b4",
   "metadata": {},
   "outputs": [],
   "source": [
    "# value fetching via library\n",
    "osName = device.os_name()\n",
    "osVersion = device.os_version()\n",
    "renderEngine = device.engine()\n",
    "deviceType = device.device_type()\n",
    "browserName = device.client_name()\n",
    "browserVersion = device.client_version()"
   ]
  },
  {
   "cell_type": "markdown",
   "id": "4a0b52fd",
   "metadata": {},
   "source": [
    "Here, we fetch the month and day, and do the SpecialDay processing"
   ]
  },
  {
   "cell_type": "code",
   "execution_count": 27,
   "id": "346ca89c",
   "metadata": {},
   "outputs": [],
   "source": [
    "#initializing date object\n",
    "todays_date = date.today()\n",
    "\n",
    "#getting details\n",
    "monthOfTheYear = todays_date.month\n",
    "dayOfTheMonth = todays_date.day\n"
   ]
  },
  {
   "cell_type": "code",
   "execution_count": 32,
   "id": "d81fbd61",
   "metadata": {},
   "outputs": [],
   "source": [
    "# To avoid crowding up the Jupyter notebook, I have used external functions.\n",
    "# Please refer to specialDayTracker.py for the code behind this function\n",
    "specialDay = specialDayCalculator()"
   ]
  },
  {
   "cell_type": "markdown",
   "id": "46dc8626",
   "metadata": {},
   "source": [
    "Label encoding begins here"
   ]
  },
  {
   "cell_type": "code",
   "execution_count": null,
   "id": "38a42457",
   "metadata": {},
   "outputs": [],
   "source": [
    "#initializing the dataframe and reading from it\n",
    "newDataHandler = pd.read_csv(\"newData.csv\")\n",
    "newDataHandler.describe()\n",
    "newDataHandler.head()"
   ]
  },
  {
   "cell_type": "code",
   "execution_count": null,
   "id": "d2e08089",
   "metadata": {},
   "outputs": [],
   "source": [
    "label_encode = {\"OperatingSystems\": {\"Jan\": 1, \"Feb\": 2, \"Mar\": 3, \"Apr\": 4, \"May\": 5, \"Jun\": 6, \"Jul\": 7, \"Aug\": 8, \"Sep\": 9, \"Oct\": 10, \"Nov\": 11, \"Dec\": 12}}\n",
    "newDataHandler_le = newDataHandler.copy() # Fallback in case of error \n",
    "newDataHandler_le.replace(label_encode, inplace = True)\n"
   ]
  },
  {
   "cell_type": "markdown",
   "id": "2b2b2109",
   "metadata": {},
   "source": [
    "Label encoding is done for. This module is designed to be used in conjunction with Google Analytics. "
   ]
  }
 ],
 "metadata": {
  "kernelspec": {
   "display_name": "Python 3 (ipykernel)",
   "language": "python",
   "name": "python3"
  },
  "language_info": {
   "codemirror_mode": {
    "name": "ipython",
    "version": 3
   },
   "file_extension": ".py",
   "mimetype": "text/x-python",
   "name": "python",
   "nbconvert_exporter": "python",
   "pygments_lexer": "ipython3",
   "version": "3.9.7"
  },
  "widgets": {
   "application/vnd.jupyter.widget-state+json": {
    "state": {},
    "version_major": 2,
    "version_minor": 0
   }
  }
 },
 "nbformat": 4,
 "nbformat_minor": 5
}
