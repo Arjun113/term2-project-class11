{
 "cells": [
  {
   "cell_type": "code",
   "execution_count": 1,
   "id": "d18a8831",
   "metadata": {},
   "outputs": [],
   "source": [
    "#importing all the libraries needed\n",
    "import numpy as np\n",
    "import pandas as pd\n",
    "import os\n",
    "import glob\n",
    "from sklearn.preprocessing import StandardScaler\n",
    "from sklearn.model_selection import train_test_split\n",
    "from tensorflow.keras.layers import Dense\n",
    "from tensorflow.keras.utils import to_categorical\n",
    "from tensorflow.keras.models import Sequential\n",
    "from tensorflow.keras.models import load_model"
   ]
  },
  {
   "cell_type": "code",
   "execution_count": null,
   "id": "7b91b69f",
   "metadata": {},
   "outputs": [],
   "source": [
    "dataframe = pd.read_csv(\"newData.csv\")"
   ]
  },
  {
   "cell_type": "code",
   "execution_count": null,
   "id": "17ade82a",
   "metadata": {},
   "outputs": [],
   "source": [
    "label_encode = {\"Month\": {\"Jan\": 1, \"Feb\": 2, \"Mar\": 3, \"Apr\": 4, \"May\": 5, \"Jun\": 6, \"Jul\": 7, \"Aug\": 8, \"Sep\": 9, \"Oct\": 10, \"Nov\": 11, \"Dec\": 12}, \"VisitorType\": {\"New_Visitor\": 0, \"Returning_Visitor\": 1, \"Other\": 2}, \"Weekend\": {True: 1, False: 0}, \"Revenue\": {True: 1, False: 0}}\n",
    "dataframe_labelencoded = dataframe.copy()\n",
    "dataframe_labelencoded.replace(label_encode, inplace = True, regex = True)\n",
    "dataframe_labelencoded.info()\n",
    "dataframe_labelencoded.head()"
   ]
  },
  {
   "cell_type": "code",
   "execution_count": null,
   "id": "19fc0278",
   "metadata": {},
   "outputs": [],
   "source": [
    "x_values = dataframe_labelencoded.drop([\"Revenue\"], axis = 1)\n",
    "y_values = dataframe_labelencoded[\"Revenue\"]\n",
    "print(y_values) #Testing only, again\n",
    "print(x_values)"
   ]
  },
  {
   "cell_type": "code",
   "execution_count": null,
   "id": "2045a779",
   "metadata": {},
   "outputs": [],
   "source": [
    "#standardisation.....\n",
    "Standardise = StandardScaler()\n",
    "x_values_standardised = Standardise.fit_transform(x_values)\n",
    "x_values_dataframe = pd.DataFrame(x_values_standardised)\n",
    "x_values_dataframe.info()"
   ]
  },
  {
   "cell_type": "markdown",
   "id": "386f499a",
   "metadata": {},
   "source": [
    "Until here, the entire thing was the same as `mainMLModel.py`, here's where the differences begin"
   ]
  },
  {
   "cell_type": "code",
   "execution_count": 5,
   "id": "b1b1a7b9",
   "metadata": {},
   "outputs": [],
   "source": [
    "loadedModel = load_model(\"final1\")"
   ]
  },
  {
   "cell_type": "code",
   "execution_count": 6,
   "id": "df74466f",
   "metadata": {},
   "outputs": [
    {
     "name": "stdout",
     "output_type": "stream",
     "text": [
      "Model: \"sequential\"\n",
      "_________________________________________________________________\n",
      " Layer (type)                Output Shape              Param #   \n",
      "=================================================================\n",
      " dense (Dense)               (None, 17)                306       \n",
      "                                                                 \n",
      " dense_1 (Dense)             (None, 17)                306       \n",
      "                                                                 \n",
      " dense_2 (Dense)             (None, 17)                306       \n",
      "                                                                 \n",
      " dense_3 (Dense)             (None, 17)                306       \n",
      "                                                                 \n",
      " dense_4 (Dense)             (None, 17)                306       \n",
      "                                                                 \n",
      " dense_5 (Dense)             (None, 17)                306       \n",
      "                                                                 \n",
      " dense_6 (Dense)             (None, 17)                306       \n",
      "                                                                 \n",
      " dense_7 (Dense)             (None, 17)                306       \n",
      "                                                                 \n",
      " dense_8 (Dense)             (None, 17)                306       \n",
      "                                                                 \n",
      " dense_9 (Dense)             (None, 17)                306       \n",
      "                                                                 \n",
      " dense_10 (Dense)            (None, 17)                306       \n",
      "                                                                 \n",
      " dense_11 (Dense)            (None, 17)                306       \n",
      "                                                                 \n",
      " dense_12 (Dense)            (None, 17)                306       \n",
      "                                                                 \n",
      " dense_13 (Dense)            (None, 17)                306       \n",
      "                                                                 \n",
      " dense_14 (Dense)            (None, 17)                306       \n",
      "                                                                 \n",
      " dense_15 (Dense)            (None, 17)                306       \n",
      "                                                                 \n",
      " dense_16 (Dense)            (None, 17)                306       \n",
      "                                                                 \n",
      " dense_17 (Dense)            (None, 17)                306       \n",
      "                                                                 \n",
      " dense_18 (Dense)            (None, 17)                306       \n",
      "                                                                 \n",
      " dense_19 (Dense)            (None, 2)                 36        \n",
      "                                                                 \n",
      "=================================================================\n",
      "Total params: 5,850\n",
      "Trainable params: 5,850\n",
      "Non-trainable params: 0\n",
      "_________________________________________________________________\n"
     ]
    }
   ],
   "source": [
    "loadedModel.summary()"
   ]
  },
  {
   "cell_type": "code",
   "execution_count": 7,
   "id": "54d228a9",
   "metadata": {},
   "outputs": [
    {
     "ename": "NameError",
     "evalue": "name 'x_values_standardised' is not defined",
     "output_type": "error",
     "traceback": [
      "\u001b[1;31m---------------------------------------------------------------------------\u001b[0m",
      "\u001b[1;31mNameError\u001b[0m                                 Traceback (most recent call last)",
      "\u001b[1;32mC:\\Users\\ARJUNS~1\\AppData\\Local\\Temp/ipykernel_5888/2874923628.py\u001b[0m in \u001b[0;36m<module>\u001b[1;34m\u001b[0m\n\u001b[1;32m----> 1\u001b[1;33m \u001b[0mloadedModel\u001b[0m\u001b[1;33m.\u001b[0m\u001b[0mpredict\u001b[0m\u001b[1;33m(\u001b[0m\u001b[0mx_values_standardised\u001b[0m\u001b[1;33m,\u001b[0m \u001b[0my_values\u001b[0m\u001b[1;33m)\u001b[0m\u001b[1;33m\u001b[0m\u001b[1;33m\u001b[0m\u001b[0m\n\u001b[0m",
      "\u001b[1;31mNameError\u001b[0m: name 'x_values_standardised' is not defined"
     ]
    }
   ],
   "source": [
    "loadedModel.predict(x_values_standardised, y_values)"
   ]
  },
  {
   "cell_type": "code",
   "execution_count": null,
   "id": "d2225e72",
   "metadata": {},
   "outputs": [],
   "source": []
  }
 ],
 "metadata": {
  "kernelspec": {
   "display_name": "Python 3 (ipykernel)",
   "language": "python",
   "name": "python3"
  },
  "language_info": {
   "codemirror_mode": {
    "name": "ipython",
    "version": 3
   },
   "file_extension": ".py",
   "mimetype": "text/x-python",
   "name": "python",
   "nbconvert_exporter": "python",
   "pygments_lexer": "ipython3",
   "version": "3.9.7"
  }
 },
 "nbformat": 4,
 "nbformat_minor": 5
}
